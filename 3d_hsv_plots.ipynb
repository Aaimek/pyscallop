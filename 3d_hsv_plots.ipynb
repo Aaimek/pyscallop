{
 "cells": [
  {
   "cell_type": "markdown",
   "metadata": {},
   "source": [
    "## Création de graphiques 3d pour visualiser les couleurs présentes dans une image"
   ]
  },
  {
   "cell_type": "code",
   "execution_count": null,
   "metadata": {},
   "outputs": [],
   "source": [
    "import cv2\n",
    "import numpy as np\n",
    "import matplotlib.pyplot as plt\n",
    "import sys\n",
    "import imutils\n",
    "from matplotlib.colors import hsv_to_rgb\n",
    "from mpl_toolkits.mplot3d import Axes3D\n",
    "from matplotlib import cm\n",
    "from matplotlib import colors\n",
    "\n",
    "# charger l'image\n",
    "img = cv2.imread('./assets/coq_mix_from_real_2.jpg')\n",
    "img = imutils.resize(img, width=1200)\n",
    "\n",
    "# créer les images RGB et HSV\n",
    "hsv = cv2.cvtColor(img, cv2.COLOR_BGR2HSV)\n",
    "rgb = cv2.cvtColor(img, cv2.COLOR_BGR2RGB)\n",
    "\n",
    "# Créer trois listes avec les valeurs de H, S et V\n",
    "h, s, v = cv2.split(hsv)\n",
    "\n",
    "# Créer la toile matplotlib 3d\n",
    "fig = plt.figure()\n",
    "axis = fig.add_subplot(1, 1, 1, projection=\"3d\")\n",
    "\n",
    "# Faire que chaque point ait la couleur du pixel qu'il représente\n",
    "pixel_colors = rgb.reshape((np.shape(rgb)[0]*np.shape(rgb)[1], 3))\n",
    "norm = colors.Normalize(vmin=-1.,vmax=1.)\n",
    "norm.autoscale(pixel_colors)\n",
    "pixel_colors = norm(pixel_colors).tolist()\n",
    "\n",
    "# Afficher le nuage\n",
    "axis.scatter(s.flatten(), h.flatten(), v.flatten(), facecolors=pixel_colors, marker=\".\")\n",
    "\n",
    "# Nom des axes\n",
    "axis.set_xlabel(\"Saturation\")\n",
    "axis.set_ylabel(\"Teinte\")\n",
    "axis.set_zlabel(\"Intensité\")\n",
    "\n",
    "# Sauvegarder et afficher l'image résultants\n",
    "plt.savefig('./output/3d_hsv_colorspace.jpg', dpi=1000)\n",
    "plt.show()"
   ]
  },
  {
   "cell_type": "code",
   "execution_count": null,
   "metadata": {},
   "outputs": [],
   "source": []
  }
 ],
 "metadata": {
  "interpreter": {
   "hash": "44821179211c5035b5d6edd6beab79c9eb9ea6660d25f635822b8685fec8d67a"
  },
  "kernelspec": {
   "display_name": "Python 3",
   "language": "python",
   "name": "python3"
  },
  "language_info": {
   "codemirror_mode": {
    "name": "ipython",
    "version": 3
   },
   "file_extension": ".py",
   "mimetype": "text/x-python",
   "name": "python",
   "nbconvert_exporter": "python",
   "pygments_lexer": "ipython3",
   "version": "3.9.7"
  }
 },
 "nbformat": 4,
 "nbformat_minor": 2
}
